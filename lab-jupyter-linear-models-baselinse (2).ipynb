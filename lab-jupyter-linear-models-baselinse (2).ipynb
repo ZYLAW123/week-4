{
 "cells": [
  {
   "cell_type": "markdown",
   "metadata": {},
   "source": [
    "<center>\n",
    "<img src=\"https://cf-courses-data.s3.us.cloud-object-storage.appdomain.cloud/IBMDeveloperSkillsNetwork-RP0321EN-SkillsNetwork/labs/module_1/images/SN_web_lightmode.png\" width=\"300\"> \n",
    "</center>\n"
   ]
  },
  {
   "cell_type": "markdown",
   "metadata": {},
   "source": [
    "<h1>Predict Hourly Rented Bike Count using Basic Linear Regression Models</h1>\n",
    "\n",
    "Estimated time needed: **90** minutes\n"
   ]
  },
  {
   "cell_type": "markdown",
   "metadata": {},
   "source": [
    "## Lab Overview:\n",
    "\n",
    "Now that you have performed exploratory analysis on the bike sharing demand dataset and obtained some insights on the attributes, it's time to build predictive models to predict the hourly rented bike count using related weather and date information.\n",
    "\n",
    "In this lab, you will be asked to use `tidymodels` to build some baseline linear regression models:\n",
    "- **TASK: Split data into training and testing datasets**\n",
    "- **TASK: Build a linear regression model using only the weather variables**\n",
    "- **TASK: Build a linear regression model using both weather and date variables**\n",
    "- **TASK: Evaluate the models and identify important variables**\n",
    "\n",
    "Let's start!\n"
   ]
  },
  {
   "cell_type": "markdown",
   "metadata": {},
   "source": [
    "First install and import the necessary libraries\n"
   ]
  },
  {
   "cell_type": "code",
   "execution_count": 1,
   "metadata": {
    "tags": []
   },
   "outputs": [
    {
     "name": "stderr",
     "output_type": "stream",
     "text": [
      "Updating HTML index of packages in '.Library'\n",
      "Making 'packages.html' ... done\n",
      "also installing the dependencies ‘fastmap’, ‘cachem’, ‘tzdb’, ‘timechange’, ‘warp’, ‘stringi’, ‘memoise’, ‘vctrs’, ‘lifecycle’, ‘pillar’, ‘tidyselect’, ‘scales’, ‘withr’, ‘glue’, ‘patchwork’, ‘generics’, ‘clock’, ‘ipred’, ‘lubridate’, ‘slider’, ‘stringr’, ‘cpp11’, ‘modelenv’, ‘broom’, ‘cli’, ‘conflicted’, ‘dials’, ‘dplyr’, ‘ggplot2’, ‘hardhat’, ‘infer’, ‘modeldata’, ‘parsnip’, ‘purrr’, ‘recipes’, ‘rsample’, ‘rstudioapi’, ‘tibble’, ‘tidyr’, ‘tune’, ‘workflows’, ‘workflowsets’, ‘yardstick’\n",
      "\n",
      "Updating HTML index of packages in '.Library'\n",
      "Making 'packages.html' ... done\n"
     ]
    }
   ],
   "source": [
    "# It may take several minutes to install those libraries in Watson Studio\n",
    "install.packages(\"rlang\")\n",
    "install.packages(\"tidymodels\")"
   ]
  },
  {
   "cell_type": "code",
   "execution_count": 1,
   "metadata": {
    "tags": []
   },
   "outputs": [
    {
     "name": "stderr",
     "output_type": "stream",
     "text": [
      "── Attaching packages ────────────────────────────────────── tidymodels 1.1.0 ──\n",
      "✔ broom        1.0.5     ✔ recipes      1.0.6\n",
      "✔ dials        1.2.0     ✔ rsample      1.1.1\n",
      "✔ dplyr        1.1.2     ✔ tibble       3.2.1\n",
      "✔ ggplot2      3.4.2     ✔ tidyr        1.3.0\n",
      "✔ infer        1.0.4     ✔ tune         1.1.1\n",
      "✔ modeldata    1.1.0     ✔ workflows    1.1.3\n",
      "✔ parsnip      1.1.0     ✔ workflowsets 1.0.1\n",
      "✔ purrr        1.0.1     ✔ yardstick    1.2.0\n",
      "── Conflicts ───────────────────────────────────────── tidymodels_conflicts() ──\n",
      "✖ purrr::discard() masks scales::discard()\n",
      "✖ dplyr::filter()  masks stats::filter()\n",
      "✖ dplyr::lag()     masks stats::lag()\n",
      "✖ recipes::step()  masks stats::step()\n",
      "• Search for functions across packages at https://www.tidymodels.org/find/\n",
      "── Attaching packages ─────────────────────────────────────── tidyverse 1.3.0 ──\n",
      "✔ readr   1.3.1     ✔ forcats 0.5.0\n",
      "✔ stringr 1.5.0     \n",
      "── Conflicts ────────────────────────────────────────── tidyverse_conflicts() ──\n",
      "✖ readr::col_factor() masks scales::col_factor()\n",
      "✖ purrr::discard()    masks scales::discard()\n",
      "✖ dplyr::filter()     masks stats::filter()\n",
      "✖ stringr::fixed()    masks recipes::fixed()\n",
      "✖ dplyr::lag()        masks stats::lag()\n",
      "✖ readr::spec()       masks yardstick::spec()\n"
     ]
    }
   ],
   "source": [
    "library(\"tidymodels\")\n",
    "library(\"tidyverse\")\n",
    "library(\"stringr\")\n",
    "\n"
   ]
  },
  {
   "cell_type": "markdown",
   "metadata": {},
   "source": [
    "The `seoul_bike_sharing_converted_normalized.csv` will be our main dataset which has following variables:\n",
    "\n",
    "The response variable:\n",
    "- `RENTED BIKE COUNT`- Count of bikes rented at each hour\n",
    "\n",
    "Weather predictor variables:\n",
    "- `TEMPERATURE` - Temperature in Celsius\n",
    "- `HUMIDITY` - Unit is `%`\n",
    "- `WIND_SPEED` - Unit is `m/s`\n",
    "- `VISIBILITY` - Multiplied by 10m\n",
    "- `DEW_POINT_TEMPERATURE` - The temperature to which the air would have to cool down in order to reach saturation, unit is Celsius\n",
    "- `SOLAR_RADIATION` - MJ/m2\n",
    "- `RAINFALL` - mm\n",
    "- `SNOWFALL` - cm\n",
    "\n",
    "Date/time predictor variables:\n",
    "- `DATE` - Year-month-day\n",
    "- `HOUR`- Hour of he day\n",
    "- `FUNCTIONAL DAY` - NoFunc(Non Functional Hours), Fun(Functional hours)\n",
    "- `HOLIDAY` - Holiday/No holiday\n",
    "- `SEASONS` - Winter, Spring, Summer, Autumn\n"
   ]
  },
  {
   "cell_type": "markdown",
   "metadata": {},
   "source": [
    "Let's read the dataset as a dataframe first:\n"
   ]
  },
  {
   "cell_type": "code",
   "execution_count": 2,
   "metadata": {
    "tags": []
   },
   "outputs": [
    {
     "name": "stderr",
     "output_type": "stream",
     "text": [
      "Parsed with column specification:\n",
      "cols(\n",
      "  .default = col_double(),\n",
      "  DATE = col_character(),\n",
      "  FUNCTIONING_DAY = col_character()\n",
      ")\n",
      "See spec(...) for full column specifications.\n"
     ]
    },
    {
     "data": {
      "text/plain": [
       "cols(\n",
       "  DATE = col_character(),\n",
       "  RENTED_BIKE_COUNT = col_double(),\n",
       "  TEMPERATURE = col_double(),\n",
       "  HUMIDITY = col_double(),\n",
       "  WIND_SPEED = col_double(),\n",
       "  VISIBILITY = col_double(),\n",
       "  DEW_POINT_TEMPERATURE = col_double(),\n",
       "  SOLAR_RADIATION = col_double(),\n",
       "  RAINFALL = col_double(),\n",
       "  SNOWFALL = col_double(),\n",
       "  FUNCTIONING_DAY = col_character(),\n",
       "  `0` = col_double(),\n",
       "  `1` = col_double(),\n",
       "  `10` = col_double(),\n",
       "  `11` = col_double(),\n",
       "  `12` = col_double(),\n",
       "  `13` = col_double(),\n",
       "  `14` = col_double(),\n",
       "  `15` = col_double(),\n",
       "  `16` = col_double(),\n",
       "  `17` = col_double(),\n",
       "  `18` = col_double(),\n",
       "  `19` = col_double(),\n",
       "  `2` = col_double(),\n",
       "  `20` = col_double(),\n",
       "  `21` = col_double(),\n",
       "  `22` = col_double(),\n",
       "  `23` = col_double(),\n",
       "  `3` = col_double(),\n",
       "  `4` = col_double(),\n",
       "  `5` = col_double(),\n",
       "  `6` = col_double(),\n",
       "  `7` = col_double(),\n",
       "  `8` = col_double(),\n",
       "  `9` = col_double(),\n",
       "  AUTUMN = col_double(),\n",
       "  SPRING = col_double(),\n",
       "  SUMMER = col_double(),\n",
       "  WINTER = col_double(),\n",
       "  HOLIDAY = col_double(),\n",
       "  NO_HOLIDAY = col_double()\n",
       ")"
      ]
     },
     "metadata": {},
     "output_type": "display_data"
    }
   ],
   "source": [
    "# Dataset URL\n",
    "dataset_url <- \"https://cf-courses-data.s3.us.cloud-object-storage.appdomain.cloud/IBMDeveloperSkillsNetwork-RP0321EN-SkillsNetwork/labs/datasets/seoul_bike_sharing_converted_normalized.csv\"\n",
    "bike_sharing_df <- read_csv(dataset_url)\n",
    "spec(bike_sharing_df)"
   ]
  },
  {
   "cell_type": "markdown",
   "metadata": {},
   "source": [
    "We won't be using the `DATE` column, because 'as is', it basically acts like an data entry index. (However, given more time, we could use the `DATE` colum to create a 'day of week' or 'isWeekend' column, which we might expect has an affect on preferred bike rental times.) We also do not need the `FUNCTIONAL DAY` column because it only has one distinct value remaining (`YES`) after missing value processing.\n"
   ]
  },
  {
   "cell_type": "code",
   "execution_count": 3,
   "metadata": {
    "tags": []
   },
   "outputs": [],
   "source": [
    "bike_sharing_df <- bike_sharing_df %>% \n",
    "                   select(-DATE, -FUNCTIONING_DAY)"
   ]
  },
  {
   "cell_type": "markdown",
   "metadata": {},
   "source": [
    "# TASK: Split training and testing data\n"
   ]
  },
  {
   "cell_type": "markdown",
   "metadata": {},
   "source": [
    "First, we need to split the full dataset into training and testing datasets.\n",
    "\n",
    "The training dataset will be used for fitting regression models, and the testing dataset will be used to evaluate the trained models.\n"
   ]
  },
  {
   "cell_type": "markdown",
   "metadata": {},
   "source": [
    "_TODO:_ Use the `initial_split()`, `training()`, and `testing()` functions to generate a training dataset consisting of 75% of the original dataset, and a testing dataset using the remaining 25%. \n"
   ]
  },
  {
   "cell_type": "code",
   "execution_count": 4,
   "metadata": {
    "tags": []
   },
   "outputs": [],
   "source": [
    "# Use the `initial_split()`, `training()`, and `testing()` functions to split the dataset\n",
    "# With seed 1234\n",
    "set.seed(1234)\n",
    "# prop = 3/4\n",
    "bike_split <- initial_split(bike_sharing_df, prop = 3/4)\n",
    "# train_data \n",
    "train_data <- training(bike_split)\n",
    "# test_data\n",
    "test_data <- testing(bike_split)"
   ]
  },
  {
   "cell_type": "markdown",
   "metadata": {},
   "source": [
    "# TASK: Build a linear regression model using weather variables only\n"
   ]
  },
  {
   "cell_type": "markdown",
   "metadata": {},
   "source": [
    "As you could imagine, weather conditions may affect people's bike renting decisions. For example, on a cold and rainy day, you may choose alternate transportation such as a bus or taxi.  While on a nice sunny day, you may want to rent a bike for a short-distance travel.\n"
   ]
  },
  {
   "cell_type": "markdown",
   "metadata": {},
   "source": [
    "Thus, can we predict a city's bike-sharing demand based on its local weather information? Let's try to build a regression model to do that.\n"
   ]
  },
  {
   "cell_type": "markdown",
   "metadata": {},
   "source": [
    "_TODO:_ Build a linear regression model called `lm_model_weather` using the following variables:\n",
    "\n",
    "- `TEMPERATURE` - Temperature in Celsius\n",
    "- `HUMIDITY` - Unit is `%`\n",
    "- `WIND_SPEED` - Unit is `m/s`\n",
    "- `VISIBILITY` - Multiplied by 10m\n",
    "- `DEW_POINT_TEMPERATURE` - The temperature to which the air would have to cool down in order to reach saturation, unit is Celsius\n",
    "- `SOLAR_RADIATION` - MJ/m2\n",
    "- `RAINFALL` - mm\n",
    "- `SNOWFALL` - cm\n"
   ]
  },
  {
   "cell_type": "markdown",
   "metadata": {},
   "source": [
    "Define a linear regression model specification.\n"
   ]
  },
  {
   "cell_type": "code",
   "execution_count": 5,
   "metadata": {
    "tags": []
   },
   "outputs": [
    {
     "data": {
      "text/plain": [
       "Linear Regression Model Specification (regression)\n",
       "\n",
       "Computational engine: lm \n"
      ]
     },
     "metadata": {},
     "output_type": "display_data"
    }
   ],
   "source": [
    "# Use `linear_reg()` with engine `lm` and mode `regression`\n",
    "linear_reg(mode = \"regression\", engine = \"lm\")\n",
    "\n",
    "\n"
   ]
  },
  {
   "cell_type": "markdown",
   "metadata": {},
   "source": [
    "Fit a model with the response variable `RENTED_BIKE_COUNT` and predictor variables `TEMPERATURE + HUMIDITY + WIND_SPEED + VISIBILITY + DEW_POINT_TEMPERATURE + SOLAR_RADIATION + RAINFALL + SNOWFALL`\n"
   ]
  },
  {
   "cell_type": "code",
   "execution_count": 6,
   "metadata": {
    "tags": []
   },
   "outputs": [
    {
     "data": {
      "text/plain": [
       "\n",
       "Call:\n",
       "lm(formula = RENTED_BIKE_COUNT ~ TEMPERATURE + HUMIDITY + WIND_SPEED + \n",
       "    VISIBILITY + DEW_POINT_TEMPERATURE + SOLAR_RADIATION + RAINFALL + \n",
       "    SNOWFALL, data = train_data)\n",
       "\n",
       "Coefficients:\n",
       "          (Intercept)            TEMPERATURE               HUMIDITY  \n",
       "              171.370               2210.928              -1003.792  \n",
       "           WIND_SPEED             VISIBILITY  DEW_POINT_TEMPERATURE  \n",
       "              422.516                  4.582               -100.903  \n",
       "      SOLAR_RADIATION               RAINFALL               SNOWFALL  \n",
       "             -407.845              -2090.642                331.864  \n"
      ]
     },
     "metadata": {},
     "output_type": "display_data"
    },
    {
     "data": {
      "text/plain": [
       "\n",
       "Call:\n",
       "lm(formula = RENTED_BIKE_COUNT ~ TEMPERATURE + HUMIDITY + WIND_SPEED + \n",
       "    VISIBILITY + DEW_POINT_TEMPERATURE + SOLAR_RADIATION + RAINFALL + \n",
       "    SNOWFALL, data = train_data)\n",
       "\n",
       "Residuals:\n",
       "     Min       1Q   Median       3Q      Max \n",
       "-1347.97  -290.29   -54.92   206.91  2142.12 \n",
       "\n",
       "Coefficients:\n",
       "                       Estimate Std. Error t value Pr(>|t|)    \n",
       "(Intercept)             171.370     57.073   3.003  0.00269 ** \n",
       "TEMPERATURE            2210.928    257.857   8.574  < 2e-16 ***\n",
       "HUMIDITY              -1003.792    124.789  -8.044 1.03e-15 ***\n",
       "WIND_SPEED              422.516     47.615   8.874  < 2e-16 ***\n",
       "VISIBILITY                4.582     24.312   0.188  0.85053    \n",
       "DEW_POINT_TEMPERATURE  -100.903    274.587  -0.367  0.71328    \n",
       "SOLAR_RADIATION        -407.845     34.453 -11.838  < 2e-16 ***\n",
       "RAINFALL              -2090.642    212.080  -9.858  < 2e-16 ***\n",
       "SNOWFALL                331.864    123.019   2.698  0.00700 ** \n",
       "---\n",
       "Signif. codes:  0 ‘***’ 0.001 ‘**’ 0.01 ‘*’ 0.05 ‘.’ 0.1 ‘ ’ 1\n",
       "\n",
       "Residual standard error: 480.5 on 6339 degrees of freedom\n",
       "Multiple R-squared:  0.4447,\tAdjusted R-squared:  0.444 \n",
       "F-statistic: 634.5 on 8 and 6339 DF,  p-value: < 2.2e-16\n"
      ]
     },
     "metadata": {},
     "output_type": "display_data"
    }
   ],
   "source": [
    "# Fit the model called `lm_model_weather`\n",
    "# RENTED_BIKE_COUNT ~ TEMPERATURE + HUMIDITY + WIND_SPEED + VISIBILITY + DEW_POINT_TEMPERATURE + SOLAR_RADIATION + RAINFALL + SNOWFALL,  with the training data\n",
    "\n",
    "lm_model_weather <- lm(RENTED_BIKE_COUNT ~ TEMPERATURE + HUMIDITY + WIND_SPEED + VISIBILITY + DEW_POINT_TEMPERATURE + SOLAR_RADIATION + RAINFALL + SNOWFALL, data = train_data)\n",
    "\n",
    "lm_model_weather\n",
    "\n",
    "summary(lm_model_weather)"
   ]
  },
  {
   "cell_type": "markdown",
   "metadata": {},
   "source": [
    "Print the fit summary for the `lm_model_weather` model.\n"
   ]
  },
  {
   "cell_type": "code",
   "execution_count": 7,
   "metadata": {
    "tags": []
   },
   "outputs": [
    {
     "data": {
      "text/plain": [
       "   Min. 1st Qu.  Median    Mean 3rd Qu.    Max. \n",
       "-1341.0   394.6   722.0   730.1  1056.8  1838.0 "
      ]
     },
     "metadata": {},
     "output_type": "display_data"
    }
   ],
   "source": [
    "# print(lm_model_weather$fit)\n",
    "summary(lm_model_weather$fit)"
   ]
  },
  {
   "cell_type": "markdown",
   "metadata": {},
   "source": [
    "You should see the model details such as formula, residuals, and coefficients.\n"
   ]
  },
  {
   "cell_type": "markdown",
   "metadata": {},
   "source": [
    "# TASK: Build a linear regression model using all variables\n"
   ]
  },
  {
   "cell_type": "markdown",
   "metadata": {},
   "source": [
    "In addition to weather, there could be other factors that may affect bike rental demand, such as the time of a day or if today is a holiday or not.\n"
   ]
  },
  {
   "cell_type": "markdown",
   "metadata": {},
   "source": [
    "Next, let's build a linear regression model using all variables (weather + date/time) in this task.\n"
   ]
  },
  {
   "cell_type": "markdown",
   "metadata": {},
   "source": [
    "_TODO:_ Build a linear regression model called `lm_model_all` using all variables `RENTED_BIKE_COUNT ~ .`\n"
   ]
  },
  {
   "cell_type": "code",
   "execution_count": 8,
   "metadata": {
    "tags": []
   },
   "outputs": [
    {
     "data": {
      "text/plain": [
       "\n",
       "Call:\n",
       "lm(formula = RENTED_BIKE_COUNT ~ ., data = train_data)\n",
       "\n",
       "Coefficients:\n",
       "          (Intercept)            TEMPERATURE               HUMIDITY  \n",
       "              254.625                590.970               -974.192  \n",
       "           WIND_SPEED             VISIBILITY  DEW_POINT_TEMPERATURE  \n",
       "                3.264                  3.338                796.057  \n",
       "      SOLAR_RADIATION               RAINFALL               SNOWFALL  \n",
       "              291.995              -2317.209                263.825  \n",
       "                  `0`                    `1`                   `10`  \n",
       "              -16.895               -128.323               -220.389  \n",
       "                 `11`                   `12`                   `13`  \n",
       "             -220.593               -203.231               -179.463  \n",
       "                 `14`                   `15`                   `16`  \n",
       "             -183.466               -108.625                 34.530  \n",
       "                 `17`                   `18`                   `19`  \n",
       "              336.930                797.708                495.566  \n",
       "                  `2`                   `20`                   `21`  \n",
       "             -220.132                449.443                454.048  \n",
       "                 `22`                   `23`                    `3`  \n",
       "              344.139                103.665               -307.956  \n",
       "                  `4`                    `5`                    `6`  \n",
       "             -387.267               -367.805               -203.367  \n",
       "                  `7`                    `8`                    `9`  \n",
       "               92.548                454.810                     NA  \n",
       "               AUTUMN                 SPRING                 SUMMER  \n",
       "              360.852                202.465                212.849  \n",
       "               WINTER                HOLIDAY             NO_HOLIDAY  \n",
       "                   NA                -99.749                     NA  \n"
      ]
     },
     "metadata": {},
     "output_type": "display_data"
    },
    {
     "data": {
      "text/plain": [
       "\n",
       "Call:\n",
       "lm(formula = RENTED_BIKE_COUNT ~ ., data = train_data)\n",
       "\n",
       "Residuals:\n",
       "    Min      1Q  Median      3Q     Max \n",
       "-1410.1  -217.0    -8.7   200.7  2025.1 \n",
       "\n",
       "Coefficients: (3 not defined because of singularities)\n",
       "                       Estimate Std. Error t value Pr(>|t|)    \n",
       "(Intercept)             254.625     50.277   5.064 4.21e-07 ***\n",
       "TEMPERATURE             590.970    208.972   2.828 0.004699 ** \n",
       "HUMIDITY               -974.192     97.813  -9.960  < 2e-16 ***\n",
       "WIND_SPEED                3.264     39.813   0.082 0.934662    \n",
       "VISIBILITY                3.338     19.826   0.168 0.866281    \n",
       "DEW_POINT_TEMPERATURE   796.057    217.519   3.660 0.000255 ***\n",
       "SOLAR_RADIATION         291.995     41.101   7.104 1.34e-12 ***\n",
       "RAINFALL              -2317.209    166.583 -13.910  < 2e-16 ***\n",
       "SNOWFALL                263.825     96.700   2.728 0.006384 ** \n",
       "`0`                     -16.895     33.520  -0.504 0.614249    \n",
       "`1`                    -128.323     33.375  -3.845 0.000122 ***\n",
       "`10`                   -220.389     32.375  -6.807 1.09e-11 ***\n",
       "`11`                   -220.593     33.175  -6.649 3.19e-11 ***\n",
       "`12`                   -203.231     34.280  -5.928 3.22e-09 ***\n",
       "`13`                   -179.463     34.248  -5.240 1.66e-07 ***\n",
       "`14`                   -183.466     33.911  -5.410 6.52e-08 ***\n",
       "`15`                   -108.625     33.647  -3.228 0.001251 ** \n",
       "`16`                     34.530     33.664   1.026 0.305062    \n",
       "`17`                    336.930     33.580  10.034  < 2e-16 ***\n",
       "`18`                    797.708     34.028  23.443  < 2e-16 ***\n",
       "`19`                    495.566     34.124  14.522  < 2e-16 ***\n",
       "`2`                    -220.132     33.173  -6.636 3.49e-11 ***\n",
       "`20`                    449.443     33.551  13.396  < 2e-16 ***\n",
       "`21`                    454.048     33.940  13.378  < 2e-16 ***\n",
       "`22`                    344.139     33.625  10.234  < 2e-16 ***\n",
       "`23`                    103.665     33.697   3.076 0.002104 ** \n",
       "`3`                    -307.956     33.413  -9.217  < 2e-16 ***\n",
       "`4`                    -387.267     33.047 -11.719  < 2e-16 ***\n",
       "`5`                    -367.805     33.257 -11.059  < 2e-16 ***\n",
       "`6`                    -203.367     33.188  -6.128 9.45e-10 ***\n",
       "`7`                      92.548     33.193   2.788 0.005316 ** \n",
       "`8`                     454.810     32.460  14.012  < 2e-16 ***\n",
       "`9`                          NA         NA      NA       NA    \n",
       "AUTUMN                  360.852     20.138  17.919  < 2e-16 ***\n",
       "SPRING                  202.465     19.188  10.552  < 2e-16 ***\n",
       "SUMMER                  212.849     28.906   7.364 2.02e-13 ***\n",
       "WINTER                       NA         NA      NA       NA    \n",
       "HOLIDAY                 -99.749     21.812  -4.573 4.89e-06 ***\n",
       "NO_HOLIDAY                   NA         NA      NA       NA    \n",
       "---\n",
       "Signif. codes:  0 ‘***’ 0.001 ‘**’ 0.01 ‘*’ 0.05 ‘.’ 0.1 ‘ ’ 1\n",
       "\n",
       "Residual standard error: 372.8 on 6312 degrees of freedom\n",
       "Multiple R-squared:  0.6671,\tAdjusted R-squared:  0.6653 \n",
       "F-statistic: 361.4 on 35 and 6312 DF,  p-value: < 2.2e-16\n"
      ]
     },
     "metadata": {},
     "output_type": "display_data"
    }
   ],
   "source": [
    "# Fit the model called `lm_model_all`\n",
    "# `RENTED_BIKE_COUNT ~ .` means use all other variables except for the response variable\n",
    "lm_model_all <- lm(RENTED_BIKE_COUNT ~ ., data = train_data)\n",
    "\n",
    "lm_model_all\n",
    "\n",
    "summary(lm_model_all)"
   ]
  },
  {
   "cell_type": "markdown",
   "metadata": {},
   "source": [
    "Print the fit summary for `lm_model_all`.\n"
   ]
  },
  {
   "cell_type": "code",
   "execution_count": 29,
   "metadata": {
    "tags": []
   },
   "outputs": [
    {
     "data": {
      "text/plain": [
       "   Min. 1st Qu.  Median    Mean 3rd Qu.    Max. \n",
       "-1874.1   332.3   725.1   730.1  1127.2  2243.4 "
      ]
     },
     "metadata": {},
     "output_type": "display_data"
    }
   ],
   "source": [
    "# summary(lm_model_all$fit)\n",
    "summary(lm_model_all$fit)"
   ]
  },
  {
   "cell_type": "markdown",
   "metadata": {},
   "source": [
    "Now you have built two basic linear regression models with different predictor variables, let's evaluate which model has better performance,\n"
   ]
  },
  {
   "cell_type": "markdown",
   "metadata": {},
   "source": [
    "# TASK: Model evaluation and identification of important variables\n"
   ]
  },
  {
   "cell_type": "markdown",
   "metadata": {},
   "source": [
    "Now that you have built two regression models, `lm_model_weather` and `lm_model_all`, with different predictor variables, you need to compare their performance to see which one is better.\n"
   ]
  },
  {
   "cell_type": "markdown",
   "metadata": {},
   "source": [
    "In this project, you will be asked to use very important metrics that are often used in Statistics to determine the performance of a model:\n",
    "\n",
    "1.  R^2 / R-squared \n",
    "2.  Root Mean Squared Error (RMSE)\n",
    "\n",
    "**R-squared**\n",
    "\n",
    "<p>R squared, also known as the coefficient of determination, is a measure to indicate how close the data is to the fitted regression line. The value of R-squared is the percentage of variation of the response variable (y) that is explained by a linear model.</p>\n",
    "\n",
    "**Root Mean Squared Error (RMSE)**\n",
    "$$\n",
    "RMSE = \\sqrt{MSE}\n",
    "$$\n",
    "\n",
    "As you know, the Mean Squared Error measures the average of the squares of errors, where 'error' is the difference between the actual value ($y$) and the estimated value ($ŷ$). \n",
    "Another metric that is related to MSE is **Root Mean Squared Error (RMSE)** and is simply the square root of MSE.\n"
   ]
  },
  {
   "cell_type": "markdown",
   "metadata": {},
   "source": [
    "We first need to test the `lm_model_weather` and `lm_model_all` models against the test dataset `test_data`, and generate `RENTED_BIKE_COUNT` prediction results.\n"
   ]
  },
  {
   "cell_type": "markdown",
   "metadata": {},
   "source": [
    "_TODO:_ Make predictions on the testing dataset using both `lm_model_weather` and `lm_model_all` models\n"
   ]
  },
  {
   "cell_type": "code",
   "execution_count": 10,
   "metadata": {
    "tags": []
   },
   "outputs": [
    {
     "data": {
      "text/html": [
       "<table>\n",
       "<caption>A tibble: 6 × 2</caption>\n",
       "<thead>\n",
       "\t<tr><th scope=col>TRUTH</th><th scope=col>PREDICTED</th></tr>\n",
       "\t<tr><th scope=col>&lt;dbl&gt;</th><th scope=col>&lt;dbl&gt;</th></tr>\n",
       "</thead>\n",
       "<tbody>\n",
       "\t<tr><td>254</td><td>386.9104</td></tr>\n",
       "\t<tr><td>204</td><td>285.1363</td></tr>\n",
       "\t<tr><td>107</td><td>243.3036</td></tr>\n",
       "\t<tr><td>100</td><td>302.4798</td></tr>\n",
       "\t<tr><td>460</td><td>220.3738</td></tr>\n",
       "\t<tr><td>930</td><td>234.0196</td></tr>\n",
       "</tbody>\n",
       "</table>\n"
      ],
      "text/latex": [
       "A tibble: 6 × 2\n",
       "\\begin{tabular}{ll}\n",
       " TRUTH & PREDICTED\\\\\n",
       " <dbl> & <dbl>\\\\\n",
       "\\hline\n",
       "\t 254 & 386.9104\\\\\n",
       "\t 204 & 285.1363\\\\\n",
       "\t 107 & 243.3036\\\\\n",
       "\t 100 & 302.4798\\\\\n",
       "\t 460 & 220.3738\\\\\n",
       "\t 930 & 234.0196\\\\\n",
       "\\end{tabular}\n"
      ],
      "text/markdown": [
       "\n",
       "A tibble: 6 × 2\n",
       "\n",
       "| TRUTH &lt;dbl&gt; | PREDICTED &lt;dbl&gt; |\n",
       "|---|---|\n",
       "| 254 | 386.9104 |\n",
       "| 204 | 285.1363 |\n",
       "| 107 | 243.3036 |\n",
       "| 100 | 302.4798 |\n",
       "| 460 | 220.3738 |\n",
       "| 930 | 234.0196 |\n",
       "\n"
      ],
      "text/plain": [
       "  TRUTH PREDICTED\n",
       "1 254   386.9104 \n",
       "2 204   285.1363 \n",
       "3 107   243.3036 \n",
       "4 100   302.4798 \n",
       "5 460   220.3738 \n",
       "6 930   234.0196 "
      ]
     },
     "metadata": {},
     "output_type": "display_data"
    },
    {
     "name": "stderr",
     "output_type": "stream",
     "text": [
      "Warning message:\n",
      "“There was 1 warning in `mutate()`.\n",
      "ℹ In argument: `data.frame(PREDICTED = c(predict(lm_model_all, test_data)))`.\n",
      "Caused by warning in `predict.lm()`:\n",
      "! prediction from a rank-deficient fit may be misleading”"
     ]
    },
    {
     "data": {
      "text/html": [
       "<table>\n",
       "<caption>A tibble: 6 × 2</caption>\n",
       "<thead>\n",
       "\t<tr><th scope=col>TRUTH</th><th scope=col>PREDICTED</th></tr>\n",
       "\t<tr><th scope=col>&lt;dbl&gt;</th><th scope=col>&lt;dbl&gt;</th></tr>\n",
       "</thead>\n",
       "<tbody>\n",
       "\t<tr><td>254</td><td> 183.45391</td></tr>\n",
       "\t<tr><td>204</td><td>  58.36832</td></tr>\n",
       "\t<tr><td>107</td><td>-148.33381</td></tr>\n",
       "\t<tr><td>100</td><td>-195.31203</td></tr>\n",
       "\t<tr><td>460</td><td> 236.24048</td></tr>\n",
       "\t<tr><td>930</td><td> 600.40818</td></tr>\n",
       "</tbody>\n",
       "</table>\n"
      ],
      "text/latex": [
       "A tibble: 6 × 2\n",
       "\\begin{tabular}{ll}\n",
       " TRUTH & PREDICTED\\\\\n",
       " <dbl> & <dbl>\\\\\n",
       "\\hline\n",
       "\t 254 &  183.45391\\\\\n",
       "\t 204 &   58.36832\\\\\n",
       "\t 107 & -148.33381\\\\\n",
       "\t 100 & -195.31203\\\\\n",
       "\t 460 &  236.24048\\\\\n",
       "\t 930 &  600.40818\\\\\n",
       "\\end{tabular}\n"
      ],
      "text/markdown": [
       "\n",
       "A tibble: 6 × 2\n",
       "\n",
       "| TRUTH &lt;dbl&gt; | PREDICTED &lt;dbl&gt; |\n",
       "|---|---|\n",
       "| 254 |  183.45391 |\n",
       "| 204 |   58.36832 |\n",
       "| 107 | -148.33381 |\n",
       "| 100 | -195.31203 |\n",
       "| 460 |  236.24048 |\n",
       "| 930 |  600.40818 |\n",
       "\n"
      ],
      "text/plain": [
       "  TRUTH PREDICTED \n",
       "1 254    183.45391\n",
       "2 204     58.36832\n",
       "3 107   -148.33381\n",
       "4 100   -195.31203\n",
       "5 460    236.24048\n",
       "6 930    600.40818"
      ]
     },
     "metadata": {},
     "output_type": "display_data"
    }
   ],
   "source": [
    "# Use predict() function to generate test results for `lm_model_weather` and `lm_model_all`\n",
    "# and generate two test results dataframe with a truth column:\n",
    "\n",
    "# test_results_weather for lm_model_weather model\n",
    "test_results_weather <- test_data %>% \n",
    "select(RENTED_BIKE_COUNT) %>% \n",
    "mutate(data.frame(PREDICTED = c(predict(lm_model_weather, test_data)))) %>%\n",
    "rename(TRUTH = \"RENTED_BIKE_COUNT\")\n",
    "\n",
    "head(test_results_weather)\n",
    "# test_results_all for lm_model_all\n",
    "test_results_all <- test_data %>% \n",
    "select(RENTED_BIKE_COUNT) %>% \n",
    "mutate(data.frame(PREDICTED = c(predict(lm_model_all, test_data)))) %>%\n",
    "rename(TRUTH = \"RENTED_BIKE_COUNT\")\n",
    "\n",
    "head(test_results_all)"
   ]
  },
  {
   "cell_type": "markdown",
   "metadata": {},
   "source": [
    "NOTE: if you happen to see a warning like : `prediction from a rank-deficient fit may be misleading`, it may be casued by collinearity in the predictor variables. Collinearity means that one predictor variable can be predicted from other predictor variables to some degree. For example, `RAINFALL` could be predicted by `HUMIDITY`.\n",
    "\n",
    "But dont worry, you will address `glmnet` models (Lasso and Elastic-Net Regularized Generalized Linear Models) instead of regular `regression` models to solve this issue and futher improve the model performance.\n"
   ]
  },
  {
   "cell_type": "markdown",
   "metadata": {},
   "source": [
    "Next, let's calculate and print the R-squared and RMSE for the two test results\n"
   ]
  },
  {
   "cell_type": "markdown",
   "metadata": {},
   "source": [
    "_TODO:_ Use `rsq()` and `rmse()` functions to calculate R-squared and RMSE metrics for the two test results\n"
   ]
  },
  {
   "cell_type": "code",
   "execution_count": 11,
   "metadata": {
    "tags": []
   },
   "outputs": [
    {
     "data": {
      "text/html": [
       "<table>\n",
       "<caption>A tibble: 1 × 3</caption>\n",
       "<thead>\n",
       "\t<tr><th scope=col>.metric</th><th scope=col>.estimator</th><th scope=col>.estimate</th></tr>\n",
       "\t<tr><th scope=col>&lt;chr&gt;</th><th scope=col>&lt;chr&gt;</th><th scope=col>&lt;dbl&gt;</th></tr>\n",
       "</thead>\n",
       "<tbody>\n",
       "\t<tr><td>rsq</td><td>standard</td><td>0.3967875</td></tr>\n",
       "</tbody>\n",
       "</table>\n"
      ],
      "text/latex": [
       "A tibble: 1 × 3\n",
       "\\begin{tabular}{lll}\n",
       " .metric & .estimator & .estimate\\\\\n",
       " <chr> & <chr> & <dbl>\\\\\n",
       "\\hline\n",
       "\t rsq & standard & 0.3967875\\\\\n",
       "\\end{tabular}\n"
      ],
      "text/markdown": [
       "\n",
       "A tibble: 1 × 3\n",
       "\n",
       "| .metric &lt;chr&gt; | .estimator &lt;chr&gt; | .estimate &lt;dbl&gt; |\n",
       "|---|---|---|\n",
       "| rsq | standard | 0.3967875 |\n",
       "\n"
      ],
      "text/plain": [
       "  .metric .estimator .estimate\n",
       "1 rsq     standard   0.3967875"
      ]
     },
     "metadata": {},
     "output_type": "display_data"
    },
    {
     "data": {
      "text/html": [
       "<table>\n",
       "<caption>A tibble: 1 × 3</caption>\n",
       "<thead>\n",
       "\t<tr><th scope=col>.metric</th><th scope=col>.estimator</th><th scope=col>.estimate</th></tr>\n",
       "\t<tr><th scope=col>&lt;chr&gt;</th><th scope=col>&lt;chr&gt;</th><th scope=col>&lt;dbl&gt;</th></tr>\n",
       "</thead>\n",
       "<tbody>\n",
       "\t<tr><td>rsq</td><td>standard</td><td>0.6436637</td></tr>\n",
       "</tbody>\n",
       "</table>\n"
      ],
      "text/latex": [
       "A tibble: 1 × 3\n",
       "\\begin{tabular}{lll}\n",
       " .metric & .estimator & .estimate\\\\\n",
       " <chr> & <chr> & <dbl>\\\\\n",
       "\\hline\n",
       "\t rsq & standard & 0.6436637\\\\\n",
       "\\end{tabular}\n"
      ],
      "text/markdown": [
       "\n",
       "A tibble: 1 × 3\n",
       "\n",
       "| .metric &lt;chr&gt; | .estimator &lt;chr&gt; | .estimate &lt;dbl&gt; |\n",
       "|---|---|---|\n",
       "| rsq | standard | 0.6436637 |\n",
       "\n"
      ],
      "text/plain": [
       "  .metric .estimator .estimate\n",
       "1 rsq     standard   0.6436637"
      ]
     },
     "metadata": {},
     "output_type": "display_data"
    },
    {
     "data": {
      "text/html": [
       "<table>\n",
       "<caption>A tibble: 1 × 3</caption>\n",
       "<thead>\n",
       "\t<tr><th scope=col>.metric</th><th scope=col>.estimator</th><th scope=col>.estimate</th></tr>\n",
       "\t<tr><th scope=col>&lt;chr&gt;</th><th scope=col>&lt;chr&gt;</th><th scope=col>&lt;dbl&gt;</th></tr>\n",
       "</thead>\n",
       "<tbody>\n",
       "\t<tr><td>rmse</td><td>standard</td><td>495.0313</td></tr>\n",
       "</tbody>\n",
       "</table>\n"
      ],
      "text/latex": [
       "A tibble: 1 × 3\n",
       "\\begin{tabular}{lll}\n",
       " .metric & .estimator & .estimate\\\\\n",
       " <chr> & <chr> & <dbl>\\\\\n",
       "\\hline\n",
       "\t rmse & standard & 495.0313\\\\\n",
       "\\end{tabular}\n"
      ],
      "text/markdown": [
       "\n",
       "A tibble: 1 × 3\n",
       "\n",
       "| .metric &lt;chr&gt; | .estimator &lt;chr&gt; | .estimate &lt;dbl&gt; |\n",
       "|---|---|---|\n",
       "| rmse | standard | 495.0313 |\n",
       "\n"
      ],
      "text/plain": [
       "  .metric .estimator .estimate\n",
       "1 rmse    standard   495.0313 "
      ]
     },
     "metadata": {},
     "output_type": "display_data"
    },
    {
     "data": {
      "text/html": [
       "<table>\n",
       "<caption>A tibble: 1 × 3</caption>\n",
       "<thead>\n",
       "\t<tr><th scope=col>.metric</th><th scope=col>.estimator</th><th scope=col>.estimate</th></tr>\n",
       "\t<tr><th scope=col>&lt;chr&gt;</th><th scope=col>&lt;chr&gt;</th><th scope=col>&lt;dbl&gt;</th></tr>\n",
       "</thead>\n",
       "<tbody>\n",
       "\t<tr><td>rmse</td><td>standard</td><td>379.809</td></tr>\n",
       "</tbody>\n",
       "</table>\n"
      ],
      "text/latex": [
       "A tibble: 1 × 3\n",
       "\\begin{tabular}{lll}\n",
       " .metric & .estimator & .estimate\\\\\n",
       " <chr> & <chr> & <dbl>\\\\\n",
       "\\hline\n",
       "\t rmse & standard & 379.809\\\\\n",
       "\\end{tabular}\n"
      ],
      "text/markdown": [
       "\n",
       "A tibble: 1 × 3\n",
       "\n",
       "| .metric &lt;chr&gt; | .estimator &lt;chr&gt; | .estimate &lt;dbl&gt; |\n",
       "|---|---|---|\n",
       "| rmse | standard | 379.809 |\n",
       "\n"
      ],
      "text/plain": [
       "  .metric .estimator .estimate\n",
       "1 rmse    standard   379.809  "
      ]
     },
     "metadata": {},
     "output_type": "display_data"
    }
   ],
   "source": [
    "# rsq_weather <- rsq(...)\n",
    "# rsq_all <- rsq(...)\n",
    "\n",
    "# rmse_weather <- rmse(...)\n",
    "# rmse_all <- rmse(...)\n",
    "rsq_weather <- rsq(test_results_weather, TRUTH, PREDICTED)\n",
    "rsq_weather\n",
    "rsq_all <- rsq(test_results_all, TRUTH, PREDICTED)\n",
    "rsq_all\n",
    "\n",
    "rmse_weather <- rmse(test_results_weather, TRUTH, PREDICTED)\n",
    "rmse_weather\n",
    "rmse_all <- rmse(test_results_all, TRUTH, PREDICTED)\n",
    "rmse_all"
   ]
  },
  {
   "cell_type": "markdown",
   "metadata": {},
   "source": [
    "From these tables, you should find that the test results from `lm_model_all` are much better. It means that using both weather and datetime variables in the model generates better prediction results.\n"
   ]
  },
  {
   "cell_type": "markdown",
   "metadata": {},
   "source": [
    "Since `lm_model_all` has many predictor variables, let's check which predictor variables have larger coefficients. Variables with larger coefficients in the model means they attribute more in the prediction of `RENTED_BIKE_COUNT`. In addition, since all predictor variables are normalized to the same scale, 0 to 1, we thus can compare their coefficients directly.\n"
   ]
  },
  {
   "cell_type": "markdown",
   "metadata": {},
   "source": [
    "You could try building another regression model using the non-normalized `seoul_bike_sharing_converted.csv` dataset, and you would find that the coefficients are much different.\n"
   ]
  },
  {
   "cell_type": "markdown",
   "metadata": {},
   "source": [
    "First let's print all coefficients:\n"
   ]
  },
  {
   "cell_type": "code",
   "execution_count": 12,
   "metadata": {
    "tags": []
   },
   "outputs": [
    {
     "data": {
      "text/plain": [
       "\n",
       "Call:\n",
       "lm(formula = RENTED_BIKE_COUNT ~ ., data = train_data)\n",
       "\n",
       "Coefficients:\n",
       "          (Intercept)            TEMPERATURE               HUMIDITY  \n",
       "              254.625                590.970               -974.192  \n",
       "           WIND_SPEED             VISIBILITY  DEW_POINT_TEMPERATURE  \n",
       "                3.264                  3.338                796.057  \n",
       "      SOLAR_RADIATION               RAINFALL               SNOWFALL  \n",
       "              291.995              -2317.209                263.825  \n",
       "                  `0`                    `1`                   `10`  \n",
       "              -16.895               -128.323               -220.389  \n",
       "                 `11`                   `12`                   `13`  \n",
       "             -220.593               -203.231               -179.463  \n",
       "                 `14`                   `15`                   `16`  \n",
       "             -183.466               -108.625                 34.530  \n",
       "                 `17`                   `18`                   `19`  \n",
       "              336.930                797.708                495.566  \n",
       "                  `2`                   `20`                   `21`  \n",
       "             -220.132                449.443                454.048  \n",
       "                 `22`                   `23`                    `3`  \n",
       "              344.139                103.665               -307.956  \n",
       "                  `4`                    `5`                    `6`  \n",
       "             -387.267               -367.805               -203.367  \n",
       "                  `7`                    `8`                    `9`  \n",
       "               92.548                454.810                     NA  \n",
       "               AUTUMN                 SPRING                 SUMMER  \n",
       "              360.852                202.465                212.849  \n",
       "               WINTER                HOLIDAY             NO_HOLIDAY  \n",
       "                   NA                -99.749                     NA  \n"
      ]
     },
     "metadata": {},
     "output_type": "display_data"
    }
   ],
   "source": [
    "lm_model_all"
   ]
  },
  {
   "cell_type": "markdown",
   "metadata": {},
   "source": [
    "hmm, it's not very clear to compare the coefficients from a long and unsorted list. Next, you need to sort and visualize them using a bar chart\n"
   ]
  },
  {
   "cell_type": "markdown",
   "metadata": {},
   "source": [
    "_TODO:_ Sort the coefficient list in descending order and visualize the result using `ggplot` and `geom_bar` \n"
   ]
  },
  {
   "cell_type": "code",
   "execution_count": 13,
   "metadata": {
    "tags": []
   },
   "outputs": [
    {
     "data": {
      "text/html": [
       "<style>\n",
       ".list-inline {list-style: none; margin:0; padding: 0}\n",
       ".list-inline>li {display: inline-block}\n",
       ".list-inline>li:not(:last-child)::after {content: \"\\00b7\"; padding: 0 .5ex}\n",
       "</style>\n",
       "<ol class=list-inline><li>'(Intercept)'</li><li>'TEMPERATURE'</li><li>'HUMIDITY'</li><li>'WIND_SPEED'</li><li>'VISIBILITY'</li><li>'DEW_POINT_TEMPERATURE'</li><li>'SOLAR_RADIATION'</li><li>'RAINFALL'</li><li>'SNOWFALL'</li><li>'`0`'</li><li>'`1`'</li><li>'`10`'</li><li>'`11`'</li><li>'`12`'</li><li>'`13`'</li><li>'`14`'</li><li>'`15`'</li><li>'`16`'</li><li>'`17`'</li><li>'`18`'</li><li>'`19`'</li><li>'`2`'</li><li>'`20`'</li><li>'`21`'</li><li>'`22`'</li><li>'`23`'</li><li>'`3`'</li><li>'`4`'</li><li>'`5`'</li><li>'`6`'</li><li>'`7`'</li><li>'`8`'</li><li>'`9`'</li><li>'AUTUMN'</li><li>'SPRING'</li><li>'SUMMER'</li><li>'WINTER'</li><li>'HOLIDAY'</li><li>'NO_HOLIDAY'</li></ol>\n"
      ],
      "text/latex": [
       "\\begin{enumerate*}\n",
       "\\item '(Intercept)'\n",
       "\\item 'TEMPERATURE'\n",
       "\\item 'HUMIDITY'\n",
       "\\item 'WIND\\_SPEED'\n",
       "\\item 'VISIBILITY'\n",
       "\\item 'DEW\\_POINT\\_TEMPERATURE'\n",
       "\\item 'SOLAR\\_RADIATION'\n",
       "\\item 'RAINFALL'\n",
       "\\item 'SNOWFALL'\n",
       "\\item '`0`'\n",
       "\\item '`1`'\n",
       "\\item '`10`'\n",
       "\\item '`11`'\n",
       "\\item '`12`'\n",
       "\\item '`13`'\n",
       "\\item '`14`'\n",
       "\\item '`15`'\n",
       "\\item '`16`'\n",
       "\\item '`17`'\n",
       "\\item '`18`'\n",
       "\\item '`19`'\n",
       "\\item '`2`'\n",
       "\\item '`20`'\n",
       "\\item '`21`'\n",
       "\\item '`22`'\n",
       "\\item '`23`'\n",
       "\\item '`3`'\n",
       "\\item '`4`'\n",
       "\\item '`5`'\n",
       "\\item '`6`'\n",
       "\\item '`7`'\n",
       "\\item '`8`'\n",
       "\\item '`9`'\n",
       "\\item 'AUTUMN'\n",
       "\\item 'SPRING'\n",
       "\\item 'SUMMER'\n",
       "\\item 'WINTER'\n",
       "\\item 'HOLIDAY'\n",
       "\\item 'NO\\_HOLIDAY'\n",
       "\\end{enumerate*}\n"
      ],
      "text/markdown": [
       "1. '(Intercept)'\n",
       "2. 'TEMPERATURE'\n",
       "3. 'HUMIDITY'\n",
       "4. 'WIND_SPEED'\n",
       "5. 'VISIBILITY'\n",
       "6. 'DEW_POINT_TEMPERATURE'\n",
       "7. 'SOLAR_RADIATION'\n",
       "8. 'RAINFALL'\n",
       "9. 'SNOWFALL'\n",
       "10. '`0`'\n",
       "11. '`1`'\n",
       "12. '`10`'\n",
       "13. '`11`'\n",
       "14. '`12`'\n",
       "15. '`13`'\n",
       "16. '`14`'\n",
       "17. '`15`'\n",
       "18. '`16`'\n",
       "19. '`17`'\n",
       "20. '`18`'\n",
       "21. '`19`'\n",
       "22. '`2`'\n",
       "23. '`20`'\n",
       "24. '`21`'\n",
       "25. '`22`'\n",
       "26. '`23`'\n",
       "27. '`3`'\n",
       "28. '`4`'\n",
       "29. '`5`'\n",
       "30. '`6`'\n",
       "31. '`7`'\n",
       "32. '`8`'\n",
       "33. '`9`'\n",
       "34. 'AUTUMN'\n",
       "35. 'SPRING'\n",
       "36. 'SUMMER'\n",
       "37. 'WINTER'\n",
       "38. 'HOLIDAY'\n",
       "39. 'NO_HOLIDAY'\n",
       "\n",
       "\n"
      ],
      "text/plain": [
       " [1] \"(Intercept)\"           \"TEMPERATURE\"           \"HUMIDITY\"             \n",
       " [4] \"WIND_SPEED\"            \"VISIBILITY\"            \"DEW_POINT_TEMPERATURE\"\n",
       " [7] \"SOLAR_RADIATION\"       \"RAINFALL\"              \"SNOWFALL\"             \n",
       "[10] \"`0`\"                   \"`1`\"                   \"`10`\"                 \n",
       "[13] \"`11`\"                  \"`12`\"                  \"`13`\"                 \n",
       "[16] \"`14`\"                  \"`15`\"                  \"`16`\"                 \n",
       "[19] \"`17`\"                  \"`18`\"                  \"`19`\"                 \n",
       "[22] \"`2`\"                   \"`20`\"                  \"`21`\"                 \n",
       "[25] \"`22`\"                  \"`23`\"                  \"`3`\"                  \n",
       "[28] \"`4`\"                   \"`5`\"                   \"`6`\"                  \n",
       "[31] \"`7`\"                   \"`8`\"                   \"`9`\"                  \n",
       "[34] \"AUTUMN\"                \"SPRING\"                \"SUMMER\"               \n",
       "[37] \"WINTER\"                \"HOLIDAY\"               \"NO_HOLIDAY\"           "
      ]
     },
     "metadata": {},
     "output_type": "display_data"
    },
    {
     "data": {
      "text/html": [
       "<table>\n",
       "<caption>A data.frame: 6 × 2</caption>\n",
       "<thead>\n",
       "\t<tr><th></th><th scope=col>row_name</th><th scope=col>coefficient</th></tr>\n",
       "\t<tr><th></th><th scope=col>&lt;fct&gt;</th><th scope=col>&lt;dbl&gt;</th></tr>\n",
       "</thead>\n",
       "<tbody>\n",
       "\t<tr><th scope=row>RAINFALL</th><td>RAINFALL             </td><td>2317.2090</td></tr>\n",
       "\t<tr><th scope=row>HUMIDITY</th><td>HUMIDITY             </td><td> 974.1917</td></tr>\n",
       "\t<tr><th scope=row>`18`</th><td>`18`                 </td><td> 797.7080</td></tr>\n",
       "\t<tr><th scope=row>DEW_POINT_TEMPERATURE</th><td>DEW_POINT_TEMPERATURE</td><td> 796.0572</td></tr>\n",
       "\t<tr><th scope=row>TEMPERATURE</th><td>TEMPERATURE          </td><td> 590.9700</td></tr>\n",
       "\t<tr><th scope=row>`19`</th><td>`19`                 </td><td> 495.5662</td></tr>\n",
       "</tbody>\n",
       "</table>\n"
      ],
      "text/latex": [
       "A data.frame: 6 × 2\n",
       "\\begin{tabular}{r|ll}\n",
       "  & row\\_name & coefficient\\\\\n",
       "  & <fct> & <dbl>\\\\\n",
       "\\hline\n",
       "\tRAINFALL & RAINFALL              & 2317.2090\\\\\n",
       "\tHUMIDITY & HUMIDITY              &  974.1917\\\\\n",
       "\t`18` & `18`                  &  797.7080\\\\\n",
       "\tDEW\\_POINT\\_TEMPERATURE & DEW\\_POINT\\_TEMPERATURE &  796.0572\\\\\n",
       "\tTEMPERATURE & TEMPERATURE           &  590.9700\\\\\n",
       "\t`19` & `19`                  &  495.5662\\\\\n",
       "\\end{tabular}\n"
      ],
      "text/markdown": [
       "\n",
       "A data.frame: 6 × 2\n",
       "\n",
       "| <!--/--> | row_name &lt;fct&gt; | coefficient &lt;dbl&gt; |\n",
       "|---|---|---|\n",
       "| RAINFALL | RAINFALL              | 2317.2090 |\n",
       "| HUMIDITY | HUMIDITY              |  974.1917 |\n",
       "| `18` | `18`                  |  797.7080 |\n",
       "| DEW_POINT_TEMPERATURE | DEW_POINT_TEMPERATURE |  796.0572 |\n",
       "| TEMPERATURE | TEMPERATURE           |  590.9700 |\n",
       "| `19` | `19`                  |  495.5662 |\n",
       "\n"
      ],
      "text/plain": [
       "                      row_name              coefficient\n",
       "RAINFALL              RAINFALL              2317.2090  \n",
       "HUMIDITY              HUMIDITY               974.1917  \n",
       "`18`                  `18`                   797.7080  \n",
       "DEW_POINT_TEMPERATURE DEW_POINT_TEMPERATURE  796.0572  \n",
       "TEMPERATURE           TEMPERATURE            590.9700  \n",
       "`19`                  `19`                   495.5662  "
      ]
     },
     "metadata": {},
     "output_type": "display_data"
    }
   ],
   "source": [
    "# Sort coefficient list\n",
    "row_name = rownames(data.frame(lm_model_all$coefficients))\n",
    "lm_all_abs_coefficient = data.frame(coefficient = c(abs(lm_model_all$coefficients)))\n",
    "coefficient_data = cbind(row_name,lm_all_abs_coefficient)\n",
    "row.names(coefficient_data)\n",
    "\n",
    "coefficient_data = coefficient_data %>%\n",
    "arrange(desc(coefficient))\n",
    "\n",
    "head(coefficient_data)"
   ]
  },
  {
   "cell_type": "code",
   "execution_count": 14,
   "metadata": {
    "tags": []
   },
   "outputs": [
    {
     "name": "stderr",
     "output_type": "stream",
     "text": [
      "Warning message:\n",
      "“Removed 3 rows containing missing values (`position_stack()`).”"
     ]
    },
    {
     "data": {},
     "metadata": {},
     "output_type": "display_data"
    },
    {
     "data": {
      "image/png": "[encoded data removed]",
      "text/plain": [
       "plot without title"
      ]
     },
     "metadata": {},
     "output_type": "display_data",
     "source": "R display func"
    }
   ],
   "source": [
    "# Visualize the list using ggplot and geom_bar\n",
    "ggplot(coefficient_data) +\n",
    "geom_col(aes(x = coefficient, y = reorder(row_name, coefficient, sum))) +\n",
    "labs(title = \"Absolute Coefficient of Linear Regression Model (Using all variables)\", x = \"Coefficient Value\", y = \"Independent Variables\")"
   ]
  },
  {
   "cell_type": "code",
   "execution_count": 15,
   "metadata": {
    "tags": []
   },
   "outputs": [
    {
     "data": {},
     "metadata": {},
     "output_type": "display_data"
    },
    {
     "data": {
      "image/png": "[encoded data removed]",
      "text/plain": [
       "plot without title"
      ]
     },
     "metadata": {},
     "output_type": "display_data",
     "source": "R display func"
    }
   ],
   "source": [
    "# Sort coefficient list\n",
    "\n",
    "sorted_coefficients <- sort(abs(lm_model_all$coefficients), decreasing=TRUE)\n",
    "\n",
    "# Convert to data frame\n",
    "\n",
    "coefficients_df <- as.data.frame(sorted_coefficients)\n",
    "\n",
    "# Create plot\n",
    "\n",
    "ggplot(coefficients_df, aes(x = sorted_coefficients , y = row.names(coefficients_df)) ) +\n",
    "\n",
    "  geom_bar(stat=\"identity\") +\n",
    "\n",
    "  xlab(\"Coefficient value\") +\n",
    "\n",
    "  ylab(\"Coefficient name\") +\n",
    "\n",
    "  ggtitle(\"Sorted coefficients\")  "
   ]
  },
  {
   "cell_type": "code",
   "execution_count": 32,
   "metadata": {
    "tags": []
   },
   "outputs": [
    {
     "data": {},
     "metadata": {},
     "output_type": "display_data"
    },
    {
     "data": {
      "image/png": "[encoded data removed]",
      "text/plain": [
       "plot without title"
      ]
     },
     "metadata": {},
     "output_type": "display_data",
     "source": "R display func"
    }
   ],
   "source": [
    "# Sort coefficient list\n",
    "\n",
    "sorted_coefficients <- sort(abs(lm_model_all$coefficients), decreasing=TRUE)\n",
    "\n",
    "# Convert to data frame\n",
    "\n",
    "coefficients_df <- as.data.frame(sorted_coefficients)\n",
    "\n",
    "# Create plot\n",
    "\n",
    "ggplot(coefficients_df, aes(x = sorted_coefficients , y = as.factor(row.names(coefficients_df))) ) +\n",
    "\n",
    "  geom_bar(stat=\"identity\") +\n",
    "\n",
    "  xlab(\"Coefficient value\") +\n",
    "\n",
    "  ylab(\"Coefficient name\") +\n",
    "\n",
    "  ggtitle(\"Sorted coefficients\")  "
   ]
  },
  {
   "cell_type": "code",
   "execution_count": 24,
   "metadata": {
    "tags": []
   },
   "outputs": [
    {
     "data": {},
     "metadata": {},
     "output_type": "display_data"
    },
    {
     "data": {
      "image/png": "[encoded data removed]",
      "text/plain": [
       "plot without title"
      ]
     },
     "metadata": {},
     "output_type": "display_data",
     "source": "R display func"
    }
   ],
   "source": [
    "lm_model_all$coefficients2 <- as.factor(lm_model_all$coefficients)\n",
    "\n",
    "# Sort coefficient list\n",
    "\n",
    "sorted_coefficients2 <- sort(lm_model_all$coefficients2, decreasing=TRUE)\n",
    "\n",
    "# Convert to data frame\n",
    "\n",
    "coefficients_df2 <- as.data.frame(sorted_coefficients2)\n",
    "\n",
    "# Create plot\n",
    "\n",
    "ggplot(coefficients_df2, aes(x =  row.names(coefficients_df2), y =sorted_coefficients2 ) ) +\n",
    "\n",
    "  geom_bar(stat=\"identity\") +\n",
    "\n",
    "  xlab(\"Coefficient value\") +\n",
    "\n",
    "  ylab(\"Coefficient name\") +\n",
    "\n",
    "  ggtitle(\"Sorted coefficients\") +\n",
    "\n",
    "  coord_flip()\n"
   ]
  },
  {
   "cell_type": "code",
   "execution_count": 33,
   "metadata": {
    "tags": []
   },
   "outputs": [
    {
     "data": {},
     "metadata": {},
     "output_type": "display_data"
    },
    {
     "data": {
      "image/png": "[encoded data removed]",
      "text/plain": [
       "plot without title"
      ]
     },
     "metadata": {},
     "output_type": "display_data",
     "source": "R display func"
    }
   ],
   "source": [
    "# Sort coefficient list\n",
    "sorted_coefficients <- sort(abs(lm_model_all$coefficients), decreasing = TRUE)\n",
    "\n",
    "# Convert to data frame\n",
    "coefficients_df <- as.data.frame(sorted_coefficients)\n",
    "\n",
    "# Add row names as a column\n",
    "coefficients_df$variable <- row.names(coefficients_df)\n",
    "\n",
    "# Create plot\n",
    "ggplot(coefficients_df, aes(x = variable, y =sorted_coefficients)) +\n",
    "  geom_bar(stat = \"identity\") +\n",
    "  xlab(\"Coefficient name\") +\n",
    "  ylab(\"Coefficient value\") +\n",
    "  ggtitle(\"Sorted coefficients\") +\n",
    "  coord_flip()  # Flip the coordinate axis to display bars horizontally\n"
   ]
  },
  {
   "cell_type": "markdown",
   "metadata": {},
   "source": [
    "You should see a sorted coefficient bar chart like the following example: \n"
   ]
  },
  {
   "cell_type": "markdown",
   "metadata": {},
   "source": [
    "<a href=\"https://cognitiveclass.ai/?utm_medium=Exinfluencer&utm_source=Exinfluencer&utm_content=000026UJ&utm_term=10006555&utm_id=NA-SkillsNetwork-Channel-SkillsNetworkCoursesIBMDeveloperSkillsNetworkRP0321ENSkillsNetwork878-2022-01-01\">\n",
    "    <img src=\"https://cf-courses-data.s3.us.cloud-object-storage.appdomain.cloud/IBMDeveloperSkillsNetwork-RP0321EN-SkillsNetwork/labs/module_4/images/coefficient_chart.png\" width=\"600\" align=\"center\">\n",
    "</a>\n"
   ]
  },
  {
   "cell_type": "markdown",
   "metadata": {},
   "source": [
    "Mark down these 'top-ranked variables by coefficient', which will be used for model refinments in the next labs.\n"
   ]
  },
  {
   "cell_type": "markdown",
   "metadata": {},
   "source": [
    "Note that here the main reason we use absolute value is to easily identify important variables, i.e. variables with large magnitudes, no matter it's negative or positive. If we want to interprete the model then it's better to seperate the positive and negative coefficients.\n"
   ]
  },
  {
   "cell_type": "markdown",
   "metadata": {},
   "source": [
    "# Next Steps\n"
   ]
  },
  {
   "cell_type": "markdown",
   "metadata": {},
   "source": [
    "Great! Now you have built a baseline linear regression model to predict hourly bike rent count, with reasonably good performance. In the next lab, you will be refining the baseline model to improve its performance.\n"
   ]
  },
  {
   "cell_type": "markdown",
   "metadata": {},
   "source": [
    "## Authors\n",
    "\n",
    "<a href=\"https://www.linkedin.com/in/yan-luo-96288783/?utm_medium=Exinfluencer&utm_source=Exinfluencer&utm_content=000026UJ&utm_term=10006555&utm_id=NA-SkillsNetwork-Channel-SkillsNetworkCoursesIBMDeveloperSkillsNetworkRP0321ENSkillsNetwork878-2022-01-01\" target=\"_blank\">Yan Luo</a>\n"
   ]
  },
  {
   "cell_type": "markdown",
   "metadata": {},
   "source": [
    "### Other Contributors\n",
    "\n",
    "Jeff Grossman\n"
   ]
  },
  {
   "cell_type": "markdown",
   "metadata": {},
   "source": [
    "## Change Log\n",
    "\n",
    "| Date (YYYY-MM-DD) | Version | Changed By | Change Description           |\n",
    "| ----------------- | ------- | ---------- | ---------------------------- |\n",
    "| 2021-04-08        | 1.0     | Yan        | Initial version created      |\n",
    "|                   |         |            |                              |\n",
    "|                   |         |            |                              |\n",
    "\n",
    "## <h3 align=\"center\"> © IBM Corporation 2021. All rights reserved. <h3/>\n"
   ]
  }
 ],
 "metadata": {
  "kernelspec": {
   "display_name": "R",
   "language": "R",
   "name": "conda-env-r-r"
  },
  "language_info": {
   "codemirror_mode": "r",
   "file_extension": ".r",
   "mimetype": "text/x-r-source",
   "name": "R",
   "pygments_lexer": "r",
   "version": "3.5.1"
  }
 },
 "nbformat": 4,
 "nbformat_minor": 4
}
